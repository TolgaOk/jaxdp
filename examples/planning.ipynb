{
 "cells": [
  {
   "cell_type": "markdown",
   "metadata": {},
   "source": [
    "\n",
    "## Planning Algorithms in Gridworld</h2>\n",
    "\n",
    "- ### Value Iteration"
   ]
  },
  {
   "cell_type": "code",
   "execution_count": null,
   "metadata": {},
   "outputs": [],
   "source": [
    "import jax.numpy as jnp\n",
    "import jax.random as jrd\n",
    "import jaxdp\n",
    "from jaxdp.planning.algorithms import value_iteration\n",
    "from jaxdp.planning.runner import train, no_update_state\n",
    "\n",
    "\n",
    "# Define the arguments\n",
    "args = dict(\n",
    "    seed=42,\n",
    "    train_loop=dict(\n",
    "        gamma=0.99,\n",
    "        n_iterations=100,\n",
    "        verbose=False,\n",
    "    ),\n",
    "    value_init=dict(\n",
    "        minval=0.0,\n",
    "        maxval=1.0\n",
    "    ),\n",
    "    mdp_init=dict(\n",
    "        p_slip=0.1,\n",
    "        board=[\"#####\",\n",
    "               \"#  @#\",\n",
    "               \"#  X#\",\n",
    "               \"#P  #\",\n",
    "               \"#####\"]\n",
    "    )\n",
    ")\n",
    "\n",
    "# Initiate the MDP and the Q values\n",
    "key = jrd.PRNGKey(args[\"seed\"])\n",
    "mdp = jaxdp.mdp.grid_world(**args[\"mdp_init\"])\n",
    "init_value = jrd.uniform(key, (mdp.action_size, mdp.state_size,),\n",
    "                         dtype=\"float32\", **args[\"value_init\"])\n",
    "\n",
    "# Define value update function and its initial state\n",
    "update_state = None\n",
    "update_fn = no_update_state(value_iteration.update.q)\n",
    "\n",
    "# Train a policy\n",
    "metrics, value, update_state = train(\n",
    "    mdp=mdp,\n",
    "    init_value=init_value,\n",
    "    update_state=update_state,\n",
    "    update_fn=update_fn,\n",
    "    value_star=jnp.zeros_like(init_value),\n",
    "    **args[\"train_loop\"]\n",
    ")"
   ]
  },
  {
   "cell_type": "markdown",
   "metadata": {},
   "source": [
    "- ### Visualize"
   ]
  },
  {
   "cell_type": "code",
   "execution_count": null,
   "metadata": {},
   "outputs": [],
   "source": [
    "from itertools import chain\n",
    "import pandas as pd\n",
    "from plot_util import make_figure\n",
    "\n",
    "\n",
    "# Make dataframe from the metrics\n",
    "percentile = 25\n",
    "\n",
    "index = pd.MultiIndex.from_product(\n",
    "    [[\"gridworld\"], [\"VI\"], list(range(100))],\n",
    "    names=[\"ENV\", \"ALG\", \"STEP\"])\n",
    "columns = pd.MultiIndex.from_product(\n",
    "    [metrics._fields, [\"low\", \"med\", \"high\"]],\n",
    "    names=[\"METRIC\", \"PERCENTILE\"])\n",
    "\n",
    "data = []\n",
    "for name in metrics._fields:\n",
    "    values = getattr(metrics, name)\n",
    "    if values.ndim == 1:\n",
    "        values = values.reshape(1, -1)\n",
    "    percentiles = jnp.nanpercentile(\n",
    "        values, q=jnp.array([percentile, 50, 100 - percentile]), axis=0)\n",
    "    data.append(percentiles)\n",
    "\n",
    "\n",
    "df = pd.DataFrame(data=jnp.stack(list(chain(*data)), axis=1), columns=columns, index=index)\n",
    "\n",
    "# Generate the figure\n",
    "make_figure(df.loc[\"gridworld\"])"
   ]
  },
  {
   "cell_type": "code",
   "execution_count": null,
   "metadata": {},
   "outputs": [],
   "source": []
  }
 ],
 "metadata": {
  "kernelspec": {
   "display_name": "jaxdp",
   "language": "python",
   "name": "python3"
  },
  "language_info": {
   "codemirror_mode": {
    "name": "ipython",
    "version": 3
   },
   "file_extension": ".py",
   "mimetype": "text/x-python",
   "name": "python",
   "nbconvert_exporter": "python",
   "pygments_lexer": "ipython3",
   "version": "3.9.18"
  }
 },
 "nbformat": 4,
 "nbformat_minor": 2
}
