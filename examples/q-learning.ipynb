{
 "cells": [
  {
   "cell_type": "markdown",
   "metadata": {},
   "source": [
    "<h2 style=\"text-align: center;\">Q-Learning Gridworld Example</h2>\n",
    "\n",
    "- - -"
   ]
  },
  {
   "cell_type": "code",
   "execution_count": 1,
   "metadata": {},
   "outputs": [],
   "source": [
    "from typing import NamedTuple\n",
    "from functools import partial\n",
    "import jax\n",
    "import jax.numpy as jnp\n",
    "import jax.random as jrd\n",
    "\n",
    "import jaxdp\n",
    "from jaxdp.mdp import MDP\n",
    "from jaxdp.mdp.grid_world import grid_world\n",
    "from jaxdp.mdp.delayed_reward import delayed_reward_mdp\n",
    "from jaxdp.mdp.sequential import sequential_mdp\n",
    "from jaxdp.learning.learning import train\n",
    "from jaxdp.learning.q_learning import q_learning_update\n",
    "from jaxdp.learning.sampler import SamplerState, rollout_sample\n",
    "\n",
    "\n",
    "mdp = grid_world([\n",
    "    \"################################\",\n",
    "    \"#                           X@ #\",\n",
    "    \"#                            X #\",\n",
    "    \"#                              #\",\n",
    "    \"#                              #\",\n",
    "    \"#                              #\",\n",
    "    \"#                              #\",\n",
    "    \"#                              #\",\n",
    "    \"#                              #\",\n",
    "    \"#                              #\",\n",
    "    \"#                              #\",\n",
    "    \"#                              #\",\n",
    "    \"#P                             #\",\n",
    "    \"################################\"\n",
    "])\n",
    "\n",
    "\n",
    "class Args(NamedTuple):\n",
    "    batch_size: int = 100\n",
    "    queue_size: int = 10\n",
    "    rollout_len: int = 20\n",
    "    n_iterations: int = 1000\n",
    "    max_episode_length: int = 200\n",
    "    epsilon: float = 0.25\n",
    "    gamma: float = 0.99\n",
    "    alpha: float = 1.0\n",
    "    eval_steps: int = 10\n",
    "    verbose: bool = True\n",
    "    seed: int = 42\n",
    "\n",
    "\n",
    "args = Args()\n",
    "\n",
    "key = jrd.PRNGKey(args.seed)\n",
    "key, train_key, init_value_key, init_state_key = jrd.split(key, 4)\n",
    "\n",
    "init_value = jrd.normal(init_value_key, (mdp.action_size, mdp.state_size))\n",
    "sampler_state = SamplerState.initialize_rollout_state(\n",
    "    mdp,\n",
    "    batch_size=args.batch_size,\n",
    "    queue_size=args.queue_size,\n",
    "    init_state_key=init_state_key)\n",
    "\n",
    "trainer = jax.jit(partial(\n",
    "    train,\n",
    "    update_fn=partial(q_learning_update, gamma=args.gamma, alpha=args.alpha),\n",
    "    sample_fn=jax.vmap(partial(rollout_sample,\n",
    "                               max_episode_length=args.max_episode_length,\n",
    "                               rollout_len=args.rollout_len),\n",
    "                       in_axes=(None, 0, None, 0)),\n",
    "    policy_fn=lambda v, _: jaxdp.e_greedy_policy(v, args.epsilon),\n",
    "    n_steps=args.n_iterations,\n",
    "    eval_steps=args.eval_steps,\n",
    "    verbose=args.verbose)\n",
    ")"
   ]
  },
  {
   "cell_type": "markdown",
   "metadata": {},
   "source": [
    "<h2 style=\"text-align: center;\">Train</h2>\n",
    "\n",
    "- - -"
   ]
  },
  {
   "cell_type": "code",
   "execution_count": 2,
   "metadata": {},
   "outputs": [],
   "source": [
    "metrics, value = trainer(\n",
    "    sampler_state,\n",
    "    init_value,\n",
    "    mdp,\n",
    "    train_key,\n",
    ")"
   ]
  },
  {
   "cell_type": "markdown",
   "metadata": {},
   "source": [
    "<h2 style=\"text-align: center;\">Plot</h2>\n",
    "\n",
    "- - -"
   ]
  },
  {
   "cell_type": "code",
   "execution_count": null,
   "metadata": {},
   "outputs": [],
   "source": [
    "from plotting import line_plot\n",
    "\n",
    "\n",
    "data = [{\n",
    "    \"step\": index * args.eval_steps,\n",
    "    \"avg episode reward\": avg_eps_rew.item(),\n",
    "    \"std episode reward\": std_eps_rew.item(),\n",
    "    \"avg episode length\": avg_eps_len.item(),\n",
    "    \"std episode length\": std_eps_len.item(),\n",
    "    \"value norm\": val_norm.item()\n",
    "} for index, (avg_eps_rew, std_eps_rew, avg_eps_len, std_eps_len, val_norm)\n",
    "    in enumerate(zip(metrics.avg_episode_rewards,\n",
    "                     metrics.std_episode_rewards,\n",
    "                     metrics.avg_episode_lengths,\n",
    "                     metrics.std_episode_lengths,\n",
    "                     metrics.max_value_diff))]\n",
    "\n",
    "\n",
    "line_plot(\n",
    "    data,\n",
    "    \"step\",\n",
    "    \"Q-Learning\"\n",
    ")"
   ]
  }
 ],
 "metadata": {
  "kernelspec": {
   "display_name": "jaxdp",
   "language": "python",
   "name": "jaxdp"
  },
  "language_info": {
   "codemirror_mode": {
    "name": "ipython",
    "version": 3
   },
   "file_extension": ".py",
   "mimetype": "text/x-python",
   "name": "python",
   "nbconvert_exporter": "python",
   "pygments_lexer": "ipython3",
   "version": "3.9.18"
  }
 },
 "nbformat": 4,
 "nbformat_minor": 2
}
