{
 "cells": [
  {
   "cell_type": "markdown",
   "metadata": {},
   "source": [
    "## Visualize Training Progress\n",
    "\n",
    "Convert the training report dataframe into ```plotly``` figures."
   ]
  },
  {
   "cell_type": "code",
   "execution_count": null,
   "metadata": {},
   "outputs": [],
   "source": [
    "from plot_util import make_figure\n",
    "import pandas as pd\n",
    "\n",
    "\n",
    "parquet_path = \"./results/tabular-q-learning-mujoco/report.parquet\"\n",
    "df = pd.read_parquet(parquet_path)\n",
    "make_figure(df.loc[\"pendulum\"])"
   ]
  }
 ],
 "metadata": {
  "kernelspec": {
   "display_name": "jaxtor",
   "language": "python",
   "name": "python3"
  },
  "language_info": {
   "codemirror_mode": {
    "name": "ipython",
    "version": 3
   },
   "file_extension": ".py",
   "mimetype": "text/x-python",
   "name": "python",
   "nbconvert_exporter": "python",
   "pygments_lexer": "ipython3",
   "version": "3.11.5"
  }
 },
 "nbformat": 4,
 "nbformat_minor": 2
}
