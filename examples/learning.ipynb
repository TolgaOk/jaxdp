{
 "cells": [
  {
   "cell_type": "markdown",
   "metadata": {},
   "source": [
    "\n",
    "## Learning Algorithms in Gridworld</h2>\n",
    "\n",
    "- ### Q-learning with synchronous sampling"
   ]
  },
  {
   "cell_type": "code",
   "execution_count": 1,
   "metadata": {},
   "outputs": [],
   "source": [
    "from functools import partial\n",
    "import jax.numpy as jnp\n",
    "import jax.random as jrd\n",
    "import jaxdp\n",
    "\n",
    "from jaxdp.learning.algorithms import q_learning\n",
    "from jaxdp.learning.runner import train, no_learner_state, no_step_index\n",
    "\n",
    "\n",
    "# Define the arguments\n",
    "args = dict(\n",
    "    seed=42,\n",
    "    update_fn=dict(\n",
    "        alpha=0.1\n",
    "    ),\n",
    "    train_loop=dict(\n",
    "        gamma=0.99,\n",
    "        n_steps=100,\n",
    "        eval_period=10,\n",
    "    ),\n",
    "    value_init=dict(\n",
    "        minval=0.0,\n",
    "        maxval=1.0\n",
    "    ),\n",
    "    mdp_init=dict(\n",
    "        p_slip=0.1,\n",
    "        board=[\"#####\",\n",
    "               \"#  @#\",\n",
    "               \"#  X#\",\n",
    "               \"#P  #\",\n",
    "               \"#####\"]\n",
    "    )\n",
    ")\n",
    "\n",
    "\n",
    "# Initiate the MDP and the Q values\n",
    "train_key, value_key = jrd.split(jrd.PRNGKey(args[\"seed\"]), 2)\n",
    "mdp = jaxdp.mdp.grid_world(**args[\"mdp_init\"])\n",
    "init_value = jrd.uniform(value_key, (mdp.action_size, mdp.state_size,),\n",
    "                         dtype=\"float32\", **args[\"value_init\"])\n",
    "\n",
    "# Define learner function and its initial state\n",
    "learner_state = None\n",
    "update_fn = partial(no_learner_state(no_step_index(q_learning.update.sync)),\n",
    "                    **args[\"update_fn\"])\n",
    "\n",
    "# Train a policy\n",
    "metrics, value, learner_state = train.sync(\n",
    "    init_value,\n",
    "    mdp,\n",
    "    value_star=jnp.zeros_like(init_value),\n",
    "    key=train_key,\n",
    "    learner_state=learner_state,\n",
    "    policy_fn=lambda q, i: jaxdp.greedy_policy.q(q),\n",
    "    update_fn=update_fn,\n",
    "    **args[\"train_loop\"]\n",
    ")"
   ]
  }
 ],
 "metadata": {
  "kernelspec": {
   "display_name": "jaxdp",
   "language": "python",
   "name": "python3"
  },
  "language_info": {
   "codemirror_mode": {
    "name": "ipython",
    "version": 3
   },
   "file_extension": ".py",
   "mimetype": "text/x-python",
   "name": "python",
   "nbconvert_exporter": "python",
   "pygments_lexer": "ipython3",
   "version": "3.9.18"
  }
 },
 "nbformat": 4,
 "nbformat_minor": 2
}
