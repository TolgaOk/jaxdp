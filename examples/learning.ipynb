{
 "cells": [
  {
   "cell_type": "markdown",
   "metadata": {},
   "source": [
    "\n",
    "## Learning Algorithms in Gridworld</h2>\n",
    "\n",
    "- ### Q-learning with synchronous sampling\n",
    "\n",
    "    > Synchronous sampling samples a state transition for each (s, a) pair. "
   ]
  },
  {
   "cell_type": "code",
   "execution_count": null,
   "metadata": {},
   "outputs": [],
   "source": [
    "from functools import partial\n",
    "import jax.numpy as jnp\n",
    "import jax.random as jrd\n",
    "import jax\n",
    "import jaxdp\n",
    "\n",
    "from jaxdp.learning.algorithms import q_learning\n",
    "from jaxdp.learning.runner import train, no_learner_state, no_step_index\n",
    "\n",
    "\n",
    "# Define the arguments\n",
    "args = dict(\n",
    "    seed=42,\n",
    "    n_seeds=10,\n",
    "    update_fn=dict(\n",
    "        alpha=0.1\n",
    "    ),\n",
    "    train_loop=dict(\n",
    "        gamma=0.99,\n",
    "        n_steps=100,\n",
    "        eval_period=10,\n",
    "    ),\n",
    "    value_init=dict(\n",
    "        minval=0.0,\n",
    "        maxval=1.0\n",
    "    ),\n",
    "    mdp_init=dict(\n",
    "        p_slip=0.15,\n",
    "        board=[\"#####\",\n",
    "               \"#  @#\",\n",
    "               \"#  X#\",\n",
    "               \"#P  #\",\n",
    "               \"#####\"]\n",
    "    )\n",
    ")\n",
    "\n",
    "\n",
    "# Initiate the MDP and the Q values\n",
    "_train_key, value_key = jrd.split(jrd.PRNGKey(args[\"seed\"]), 2)\n",
    "train_keys = jrd.split(_train_key, args[\"n_seeds\"])\n",
    "mdp = jaxdp.mdp.grid_world(**args[\"mdp_init\"])\n",
    "init_value = jrd.uniform(value_key, (mdp.action_size, mdp.state_size,),\n",
    "                         dtype=\"float32\", **args[\"value_init\"])\n",
    "\n",
    "# Define learner function\n",
    "update_fn = partial(no_learner_state(no_step_index(q_learning.update.sync)),\n",
    "                    **args[\"update_fn\"])\n",
    "\n",
    "# Train a policy for 10 different seeds (After JIT compiling the \"batch\" train function)\n",
    "jitted_batch_train = jax.jit(\n",
    "    jax.vmap(\n",
    "        partial(\n",
    "            train.sync,\n",
    "            learner_state=None,\n",
    "            value_star=jnp.full_like(init_value, jnp.nan),\n",
    "            target_policy_fn=lambda q, i: jaxdp.greedy_policy.q(q),\n",
    "            update_fn=update_fn,\n",
    "            **args[\"train_loop\"]\n",
    "        ), in_axes=(None, None, 0))\n",
    ")\n",
    "metrics, value, learner_state = jitted_batch_train(\n",
    "    init_value,\n",
    "    mdp,\n",
    "    train_keys\n",
    ")"
   ]
  },
  {
   "cell_type": "markdown",
   "metadata": {},
   "source": [
    "### Visualize"
   ]
  },
  {
   "cell_type": "code",
   "execution_count": null,
   "metadata": {},
   "outputs": [],
   "source": [
    "from itertools import chain\n",
    "import pandas as pd\n",
    "from plot_util import make_figure\n",
    "\n",
    "\n",
    "# Make dataframe from the metrics\n",
    "percentile = 25\n",
    "\n",
    "index = pd.MultiIndex.from_product(\n",
    "    [[\"gridworld\"], [\"q-learning\"], list(range(args[\"train_loop\"][\"n_steps\"]))],\n",
    "    names=[\"ENV\", \"ALG\", \"STEP\"])\n",
    "columns = pd.MultiIndex.from_product(\n",
    "    [metrics._fields, [\"low\", \"med\", \"high\"]],\n",
    "    names=[\"METRIC\", \"PERCENTILE\"])\n",
    "\n",
    "data = []\n",
    "for name in metrics._fields:\n",
    "    values = getattr(metrics, name)\n",
    "    if values.ndim == 1:\n",
    "        values = values.reshape(1, -1)\n",
    "    percentiles = jnp.nanpercentile(\n",
    "        values, q=jnp.array([percentile, 50, 100 - percentile]), axis=0)\n",
    "    data.append(percentiles)\n",
    "\n",
    "\n",
    "df = pd.DataFrame(data=jnp.stack(list(chain(*data)), axis=1), columns=columns, index=index)\n",
    "\n",
    "# Generate the figure\n",
    "make_figure(df.loc[\"gridworld\"])"
   ]
  },
  {
   "cell_type": "markdown",
   "metadata": {},
   "source": [
    "- ### Q-learning with asynchronous sampling\n",
    "\n",
    "    > Asynchronous sampling samples a state transition by following a behavior policy. "
   ]
  },
  {
   "cell_type": "code",
   "execution_count": 3,
   "metadata": {},
   "outputs": [],
   "source": [
    "from functools import partial, reduce\n",
    "import jax.numpy as jnp\n",
    "import jax.random as jrd\n",
    "import jax\n",
    "import jaxdp\n",
    "\n",
    "from jaxdp.learning.algorithms import q_learning\n",
    "from jaxdp.learning.runner import train, no_learner_state, no_step_index, reducer\n",
    "from jaxdp.learning.sampler import SamplerState, rollout_sample\n",
    "\n",
    "# Define the arguments\n",
    "args = dict(\n",
    "    seed=42,                   # Initial seeds\n",
    "    n_seeds=10,                # Number of seeds to execute the same algorithm\n",
    "    n_env=4,                   # Number of parallel environments for sampling\n",
    "    policy_fn=dict(\n",
    "        epsilon=0.15           # Epsilon-greedy parameter\n",
    "    ),\n",
    "    update_fn=dict(\n",
    "        alpha=0.10             # Step size (a.k.a learning rate)\n",
    "    ),\n",
    "    train_loop=dict(\n",
    "        gamma=0.99,            # Discount factor\n",
    "        n_steps=1000,          # Number of steps\n",
    "        eval_period=50,        # Evaluation period (in terms of <n_steps>)\n",
    "    ),\n",
    "    sampler_init=dict(\n",
    "        queue_size=50,         # Queue size of the sampler for the metrics\n",
    "    ),\n",
    "    sampler_fn=dict(\n",
    "        max_episode_length=15,  # Maximum length of an episode allowed by the sampler\n",
    "        rollout_len=10,        # Length of a rollout\n",
    "    ),\n",
    "    value_init=dict(\n",
    "        minval=0.0,            # Minimum value of the uniform distribution\n",
    "        maxval=1.0             # Maxiumum value of the uniform distribution\n",
    "    ),\n",
    "    mdp_init=dict(\n",
    "        p_slip=0.15,           # Probability of slipping\n",
    "        board=[\"#####\",        # The board of the gridworld\n",
    "               \"#  @#\",\n",
    "               \"#  X#\",\n",
    "               \"#P  #\",\n",
    "               \"#####\"]\n",
    "    )\n",
    ")\n",
    "\n",
    "\n",
    "# Initiate the MDP and the Q values\n",
    "train_key, sampler_key, value_key = jrd.split(jrd.PRNGKey(args[\"seed\"]), 3)\n",
    "train_keys = jrd.split(train_key, args[\"n_seeds\"])\n",
    "mdp = jaxdp.mdp.grid_world(**args[\"mdp_init\"])\n",
    "init_value = jrd.uniform(value_key, (mdp.action_size, mdp.state_size,),\n",
    "                         dtype=\"float32\", **args[\"value_init\"])\n",
    "\n",
    "# Define learner function\n",
    "# For multiple sampling environments\n",
    "batch_step_fn = jax.vmap(jax.vmap(q_learning.step, (0, None, None)), (0, None, None))\n",
    "def batch_update_fn(index, rollouts, value, learner_state, gamma):\n",
    "    scalar_target_values = batch_step_fn(rollouts, value, gamma)\n",
    "    target_value = reducer.every_visit(rollouts, scalar_target_values)\n",
    "    return q_learning.update.asynchronous(\n",
    "        value, target_value, alpha=args[\"update_fn\"][\"alpha\"]\n",
    "    ), None\n",
    "\n",
    "# Initiate sampler\n",
    "# For single sampling environment\n",
    "sampler_state = SamplerState.initialize_rollout_state(\n",
    "    mdp,\n",
    "    **args[\"sampler_init\"],\n",
    "    init_state_key=sampler_key)\n",
    "# For multiple sampling environments\n",
    "n_env_sampler_state = jax.vmap(SamplerState.initialize_rollout_state, (None, None, 0)\n",
    "                               )(mdp,\n",
    "                                 args[\"sampler_init\"][\"queue_size\"],\n",
    "                                 jrd.split(sampler_key, args[\"n_env\"])\n",
    "                                 )\n",
    "n_env_sampler = jax.vmap(partial(rollout_sample, **args[\"sampler_fn\"]), (0, None, 0, None))\n",
    "\n",
    "\n",
    "# Train a policy for 10 different seeds (After JIT compiling the \"batch\" train function)\n",
    "# In each step, collect a rollout from <n_env> many environments.\n",
    "# Prepare the batch (vectorized) train function for <n_seeds> many runs\n",
    "jitted_batch_train = jax.jit(\n",
    "    jax.vmap(\n",
    "        partial(\n",
    "            train.asynchronous,\n",
    "            learner_state=None,\n",
    "            value_star=jnp.full_like(init_value, jnp.nan),\n",
    "            behavior_policy_fn=lambda q, i: jaxdp.e_greedy_policy.q(q, **args[\"policy_fn\"]),\n",
    "            target_policy_fn=lambda q, i: jaxdp.greedy_policy.q(q),\n",
    "            update_fn=batch_update_fn,\n",
    "            sample_fn=lambda key, *_args: n_env_sampler(jrd.split(key, args[\"n_env\"]), *_args),\n",
    "            verbose=False,\n",
    "            **args[\"train_loop\"]\n",
    "        ), in_axes=(None, None, None, 0))\n",
    ")\n",
    "# Run the jitted and vectorized train function\n",
    "metrics, value, learner_state, sampler_state = jitted_batch_train(\n",
    "    n_env_sampler_state,\n",
    "    init_value,\n",
    "    mdp,\n",
    "    train_keys\n",
    ")"
   ]
  },
  {
   "cell_type": "code",
   "execution_count": 4,
   "metadata": {},
   "outputs": [
    {
     "data": {
      "text/plain": [
       "Array([0.9662067 , 0.96218336, 0.9653484 , 0.9641941 , 0.96476895,\n",
       "       0.9622605 , 0.9632278 , 0.9635721 , 0.9668641 , 0.96149933],      dtype=float32)"
      ]
     },
     "execution_count": 4,
     "metadata": {},
     "output_type": "execute_result"
    }
   ],
   "source": [
    "value[:, 0, 0]"
   ]
  },
  {
   "cell_type": "markdown",
   "metadata": {},
   "source": [
    "### Visualize"
   ]
  },
  {
   "cell_type": "code",
   "execution_count": 5,
   "metadata": {},
   "outputs": [
    {
     "data": {
      "text/html": [
       "<script type=\"text/javascript\" async src=\"https://cdnjs.cloudflare.com/ajax/libs/mathjax/2.7.1/MathJax.js?config=TeX-MML-AM_SVG\"></script>"
      ],
      "text/plain": [
       "<IPython.core.display.HTML object>"
      ]
     },
     "metadata": {},
     "output_type": "display_data"
    },
    {
     "data": {
      "application/vnd.plotly.v1+json": {
       "config": {
        "plotlyServerURL": "https://plot.ly"
       },
       "data": [
        {
         "legendgroup": "q-learning",
         "line": {
          "color": "blue",
          "width": 0
         },
         "mode": "lines",
         "opacity": 0.75,
         "showlegend": false,
         "type": "scatter",
         "visible": true,
         "x": [
          0,
          50,
          100,
          150,
          200,
          250,
          300,
          350,
          400,
          450,
          500,
          550,
          600,
          650,
          700,
          750,
          800,
          850,
          900,
          950
         ],
         "xaxis": "x",
         "y": [
          -0.022274434566497803,
          0.49788177013397217,
          0.949999988079071,
          0.9449999928474426,
          0.956250011920929,
          0.9549999833106995,
          0.9549999833106995,
          0.9599999785423279,
          0.9424999952316284,
          0.9624999761581421,
          0.956250011920929,
          0.9649999737739563,
          0.9649999737739563,
          0.9662500023841858,
          0.9624999761581421,
          0.9437499642372131,
          0.9662500023841858,
          0.949999988079071,
          0.956250011920929,
          0.9649999737739563
         ],
         "yaxis": "y"
        },
        {
         "fill": "tonexty",
         "legendgroup": "q-learning",
         "line": {
          "color": "blue",
          "width": 0
         },
         "mode": "lines",
         "opacity": 0.75,
         "showlegend": false,
         "type": "scatter",
         "visible": true,
         "x": [
          0,
          50,
          100,
          150,
          200,
          250,
          300,
          350,
          400,
          450,
          500,
          550,
          600,
          650,
          700,
          750,
          800,
          850,
          900,
          950
         ],
         "xaxis": "x",
         "y": [
          0.1288527399301529,
          0.731249988079071,
          0.9737499952316284,
          0.9650000333786011,
          0.9825000166893005,
          0.9750000238418579,
          0.9675000309944153,
          0.9725000262260437,
          0.9775000214576721,
          0.9750000238418579,
          0.9737499952316284,
          0.9737499952316284,
          0.9775000214576721,
          0.9700000286102295,
          0.9800000190734863,
          0.96875,
          0.9837499856948853,
          0.9725000262260437,
          0.9750000238418579,
          0.9737499952316284
         ],
         "yaxis": "y"
        },
        {
         "legendgroup": "q-learning",
         "line": {
          "color": "blue"
         },
         "marker": {
          "color": "blue"
         },
         "mode": "lines",
         "name": "q-learning",
         "showlegend": true,
         "type": "scatter",
         "visible": true,
         "x": [
          0,
          50,
          100,
          150,
          200,
          250,
          300,
          350,
          400,
          450,
          500,
          550,
          600,
          650,
          700,
          750,
          800,
          850,
          900,
          950
         ],
         "xaxis": "x",
         "y": [
          0.05984507501125336,
          0.6085246801376343,
          0.9574999809265137,
          0.9474999904632568,
          0.9700000286102295,
          0.9650000333786011,
          0.9599999785423279,
          0.9649999737739563,
          0.9574999809265137,
          0.9725000262260437,
          0.9599999785423279,
          0.9700000286102295,
          0.9674999713897705,
          0.9700000286102295,
          0.9700000286102295,
          0.9599999785423279,
          0.9725000262260437,
          0.9599999785423279,
          0.9750000238418579,
          0.9700000286102295
         ],
         "yaxis": "y"
        },
        {
         "legendgroup": "q-learning",
         "line": {
          "color": "blue",
          "width": 0
         },
         "mode": "lines",
         "opacity": 0.75,
         "showlegend": false,
         "type": "scatter",
         "visible": true,
         "x": [
          0,
          50,
          100,
          150,
          200,
          250,
          300,
          350,
          400,
          450,
          500,
          550,
          600,
          650,
          700,
          750,
          800,
          850,
          900,
          950
         ],
         "xaxis": "x2",
         "y": [
          13.62098503112793,
          9.015000343322754,
          6.207499980926514,
          6.308749675750732,
          6.228749752044678,
          6.169999599456787,
          6.315000534057617,
          6.31125020980835,
          6.345000267028809,
          6.168749809265137,
          6.337500095367432,
          6.286250114440918,
          6.18625020980835,
          6.241250038146973,
          6.252500057220459,
          6.322499752044678,
          6.246250152587891,
          6.255000114440918,
          6.163750171661377,
          6.159999847412109
         ],
         "yaxis": "y2"
        },
        {
         "fill": "tonexty",
         "legendgroup": "q-learning",
         "line": {
          "color": "blue",
          "width": 0
         },
         "mode": "lines",
         "opacity": 0.75,
         "showlegend": false,
         "type": "scatter",
         "visible": true,
         "x": [
          0,
          50,
          100,
          150,
          200,
          250,
          300,
          350,
          400,
          450,
          500,
          550,
          600,
          650,
          700,
          750,
          800,
          850,
          900,
          950
         ],
         "xaxis": "x2",
         "y": [
          14.630029678344727,
          11.619951248168945,
          6.390000343322754,
          6.597499847412109,
          6.533750057220459,
          6.501250267028809,
          6.505000114440918,
          6.597499847412109,
          6.524999618530273,
          6.458749771118164,
          6.457499980926514,
          6.474999904632568,
          6.599999904632568,
          6.333750247955322,
          6.5,
          6.472499847412109,
          6.400000095367432,
          6.386250019073486,
          6.414999961853027,
          6.460000038146973
         ],
         "yaxis": "y2"
        },
        {
         "legendgroup": "q-learning",
         "line": {
          "color": "blue"
         },
         "marker": {
          "color": "blue"
         },
         "mode": "lines",
         "name": "q-learning",
         "showlegend": false,
         "type": "scatter",
         "visible": true,
         "x": [
          0,
          50,
          100,
          150,
          200,
          250,
          300,
          350,
          400,
          450,
          500,
          550,
          600,
          650,
          700,
          750,
          800,
          850,
          900,
          950
         ],
         "xaxis": "x2",
         "y": [
          13.957043647766113,
          10.361833572387695,
          6.337500095367432,
          6.447500228881836,
          6.465000152587891,
          6.324999809265137,
          6.397500038146973,
          6.417500019073486,
          6.380000114440918,
          6.377500057220459,
          6.402500152587891,
          6.392499923706055,
          6.387499809265137,
          6.244999885559082,
          6.369999885559082,
          6.425000190734863,
          6.324999809265137,
          6.307499885559082,
          6.274999618530273,
          6.375
         ],
         "yaxis": "y2"
        },
        {
         "legendgroup": "q-learning",
         "line": {
          "color": "blue",
          "width": 0
         },
         "mode": "lines",
         "opacity": 0.75,
         "showlegend": false,
         "type": "scatter",
         "visible": true,
         "x": [
          0,
          50,
          100,
          150,
          200,
          250,
          300,
          350,
          400,
          450,
          500,
          550,
          600,
          650,
          700,
          750,
          800,
          850,
          900,
          950
         ],
         "xaxis": "x3",
         "y": [
          0.6621847748756409,
          0.46677160263061523,
          0.17538617551326752,
          0.21325471997261047,
          0.16069743037223816,
          0.20012874901294708,
          0.19879542291164398,
          0.16303861141204834,
          0.14764679968357086,
          0.15612497925758362,
          0.18540503084659576,
          0.15974050760269165,
          0.17095205187797546,
          0.1738852858543396,
          0.14764682948589325,
          0.21733379364013672,
          0.12616437673568726,
          0.16303867101669312,
          0.15612497925758362,
          0.17058713734149933
         ],
         "yaxis": "y3"
        },
        {
         "fill": "tonexty",
         "legendgroup": "q-learning",
         "line": {
          "color": "blue",
          "width": 0
         },
         "mode": "lines",
         "opacity": 0.75,
         "showlegend": false,
         "type": "scatter",
         "visible": true,
         "x": [
          0,
          50,
          100,
          150,
          200,
          250,
          300,
          350,
          400,
          450,
          500,
          550,
          600,
          650,
          700,
          750,
          800,
          850,
          900,
          950
         ],
         "xaxis": "x3",
         "y": [
          0.8762440085411072,
          0.5277982354164124,
          0.23738448321819305,
          0.2863128185272217,
          0.2520384192466736,
          0.24321109056472778,
          0.2398695945739746,
          0.24440288543701172,
          0.25927627086639404,
          0.20182929933071136,
          0.22762218117713928,
          0.21443422138690948,
          0.20635280013084412,
          0.22118881344795227,
          0.22762221097946167,
          0.26798754930496216,
          0.22329145669937134,
          0.2516399025917053,
          0.23242905735969543,
          0.22335503995418549
         ],
         "yaxis": "y3"
        },
        {
         "legendgroup": "q-learning",
         "line": {
          "color": "blue"
         },
         "marker": {
          "color": "blue"
         },
         "mode": "lines",
         "name": "q-learning",
         "showlegend": false,
         "type": "scatter",
         "visible": true,
         "x": [
          0,
          50,
          100,
          150,
          200,
          250,
          300,
          350,
          400,
          450,
          500,
          550,
          600,
          650,
          700,
          750,
          800,
          850,
          900,
          950
         ],
         "xaxis": "x3",
         "y": [
          0.7498982548713684,
          0.5126153230667114,
          0.21897251904010773,
          0.27333498001098633,
          0.19068211317062378,
          0.21065369248390198,
          0.21999996900558472,
          0.20259195566177368,
          0.22345373034477234,
          0.1705872118473053,
          0.19595922529697418,
          0.17718350887298584,
          0.1837797462940216,
          0.19773711264133453,
          0.1848917454481125,
          0.25039348006248474,
          0.17799612879753113,
          0.2349773496389389,
          0.1906820833683014,
          0.1845923662185669
         ],
         "yaxis": "y3"
        },
        {
         "legendgroup": "q-learning",
         "line": {
          "color": "blue",
          "width": 0
         },
         "mode": "lines",
         "opacity": 0.75,
         "showlegend": false,
         "type": "scatter",
         "visible": true,
         "x": [
          0,
          50,
          100,
          150,
          200,
          250,
          300,
          350,
          400,
          450,
          500,
          550,
          600,
          650,
          700,
          750,
          800,
          850,
          900,
          950
         ],
         "xaxis": "x4",
         "y": [
          1.4657254219055176,
          4.003211975097656,
          2.6000428199768066,
          2.748833656311035,
          2.725982666015625,
          2.7043979167938232,
          2.737278699874878,
          2.7487587928771973,
          2.6749653816223145,
          2.727633237838745,
          2.816542863845825,
          2.8273892402648926,
          2.69358491897583,
          2.738062858581543,
          2.674351930618286,
          2.7485551834106445,
          2.6803832054138184,
          2.6981401443481445,
          2.6544854640960693,
          2.4715912342071533
         ],
         "yaxis": "y4"
        },
        {
         "fill": "tonexty",
         "legendgroup": "q-learning",
         "line": {
          "color": "blue",
          "width": 0
         },
         "mode": "lines",
         "opacity": 0.75,
         "showlegend": false,
         "type": "scatter",
         "visible": true,
         "x": [
          0,
          50,
          100,
          150,
          200,
          250,
          300,
          350,
          400,
          450,
          500,
          550,
          600,
          650,
          700,
          750,
          800,
          850,
          900,
          950
         ],
         "xaxis": "x4",
         "y": [
          2.8693835735321045,
          4.373773574829102,
          2.798168182373047,
          2.9062740802764893,
          2.9367499351501465,
          2.900679349899292,
          2.8462698459625244,
          2.9304392337799072,
          3.0004148483276367,
          2.917119264602661,
          2.9441542625427246,
          2.95379376411438,
          2.962590217590332,
          2.8878817558288574,
          2.8184690475463867,
          2.930201530456543,
          2.8018546104431152,
          2.8910489082336426,
          2.7926721572875977,
          2.8403701782226562
         ],
         "yaxis": "y4"
        },
        {
         "legendgroup": "q-learning",
         "line": {
          "color": "blue"
         },
         "marker": {
          "color": "blue"
         },
         "mode": "lines",
         "name": "q-learning",
         "showlegend": false,
         "type": "scatter",
         "visible": true,
         "x": [
          0,
          50,
          100,
          150,
          200,
          250,
          300,
          350,
          400,
          450,
          500,
          550,
          600,
          650,
          700,
          750,
          800,
          850,
          900,
          950
         ],
         "xaxis": "x4",
         "y": [
          2.5659844875335693,
          4.071989059448242,
          2.6491317749023438,
          2.8128671646118164,
          2.796029567718506,
          2.742105007171631,
          2.7922916412353516,
          2.8836331367492676,
          2.831851005554199,
          2.815375804901123,
          2.880490303039551,
          2.866291046142578,
          2.8612520694732666,
          2.7721261978149414,
          2.7547192573547363,
          2.861949920654297,
          2.7799201011657715,
          2.8025195598602295,
          2.7037243843078613,
          2.788698673248291
         ],
         "yaxis": "y4"
        },
        {
         "legendgroup": "q-learning",
         "line": {
          "color": "blue",
          "width": 0
         },
         "mode": "lines",
         "opacity": 0.75,
         "showlegend": false,
         "type": "scatter",
         "visible": true,
         "x": [
          0,
          50,
          100,
          150,
          200,
          250,
          300,
          350,
          400,
          450,
          500,
          550,
          600,
          650,
          700,
          750,
          800,
          850,
          900,
          950
         ],
         "xaxis": "x5",
         "y": [
          0.8039229512214661,
          0.7570397257804871,
          0.7357103824615479,
          0.7293092012405396,
          0.7293092012405396,
          0.7293092012405396,
          0.7293092012405396,
          0.7293092012405396,
          0.7293092012405396,
          0.7293092012405396,
          0.7293092012405396,
          0.7293092012405396,
          0.7293092012405396,
          0.7293092012405396,
          0.7293092012405396,
          0.7293092012405396,
          0.7293092012405396,
          0.7293092012405396,
          0.7293092012405396,
          0.7293092012405396
         ],
         "yaxis": "y5"
        },
        {
         "fill": "tonexty",
         "legendgroup": "q-learning",
         "line": {
          "color": "blue",
          "width": 0
         },
         "mode": "lines",
         "opacity": 0.75,
         "showlegend": false,
         "type": "scatter",
         "visible": true,
         "x": [
          0,
          50,
          100,
          150,
          200,
          250,
          300,
          350,
          400,
          450,
          500,
          550,
          600,
          650,
          700,
          750,
          800,
          850,
          900,
          950
         ],
         "xaxis": "x5",
         "y": [
          0.8279825448989868,
          0.8335263729095459,
          0.8183426856994629,
          0.813277006149292,
          0.7836641073226929,
          0.7728768587112427,
          0.7579838633537292,
          0.7460137009620667,
          0.7331411838531494,
          0.7299479842185974,
          0.7293092012405396,
          0.7293092012405396,
          0.7293092012405396,
          0.7293092012405396,
          0.7293092012405396,
          0.7293092012405396,
          0.7293092012405396,
          0.7293092012405396,
          0.7293092012405396,
          0.7293092012405396
         ],
         "yaxis": "y5"
        },
        {
         "legendgroup": "q-learning",
         "line": {
          "color": "blue"
         },
         "marker": {
          "color": "blue"
         },
         "mode": "lines",
         "name": "q-learning",
         "showlegend": false,
         "type": "scatter",
         "visible": true,
         "x": [
          0,
          50,
          100,
          150,
          200,
          250,
          300,
          350,
          400,
          450,
          500,
          550,
          600,
          650,
          700,
          750,
          800,
          850,
          900,
          950
         ],
         "xaxis": "x5",
         "y": [
          0.8120370507240295,
          0.8128016591072083,
          0.7932206392288208,
          0.757984459400177,
          0.7293092012405396,
          0.7293092012405396,
          0.7293092012405396,
          0.7293092012405396,
          0.7293092012405396,
          0.7293092012405396,
          0.7293092012405396,
          0.7293092012405396,
          0.7293092012405396,
          0.7293092012405396,
          0.7293092012405396,
          0.7293092012405396,
          0.7293092012405396,
          0.7293092012405396,
          0.7293092012405396,
          0.7293092012405396
         ],
         "yaxis": "y5"
        },
        {
         "legendgroup": "q-learning",
         "line": {
          "color": "blue",
          "width": 0
         },
         "mode": "lines",
         "opacity": 0.75,
         "showlegend": false,
         "type": "scatter",
         "visible": true,
         "x": [
          0,
          50,
          100,
          150,
          200,
          250,
          300,
          350,
          400,
          450,
          500,
          550,
          600,
          650,
          700,
          750,
          800,
          850,
          900,
          950
         ],
         "xaxis": "x6",
         "y": [
          0.010578855872154236,
          0.022051945328712463,
          0.012649238109588623,
          0.003593429923057556,
          0.0011022090911865234,
          0.0005738586187362671,
          0.0008874684572219849,
          0.000894501805305481,
          0.0008392482995986938,
          0.0008494406938552856,
          0.0011553317308425903,
          0.001186087727546692,
          0.0005960464477539062,
          0.0006228834390640259,
          0.0005699098110198975,
          0.0004670768976211548,
          0.0005914568901062012,
          0.0004735589027404785,
          0.00039736926555633545,
          0.0006661564111709595
         ],
         "yaxis": "y6"
        },
        {
         "fill": "tonexty",
         "legendgroup": "q-learning",
         "line": {
          "color": "blue",
          "width": 0
         },
         "mode": "lines",
         "opacity": 0.75,
         "showlegend": false,
         "type": "scatter",
         "visible": true,
         "x": [
          0,
          50,
          100,
          150,
          200,
          250,
          300,
          350,
          400,
          450,
          500,
          550,
          600,
          650,
          700,
          750,
          800,
          850,
          900,
          950
         ],
         "xaxis": "x6",
         "y": [
          0.031372591853141785,
          0.03886912018060684,
          0.03732366859912872,
          0.04450347274541855,
          0.024602830410003662,
          0.020517989993095398,
          0.011840173974633217,
          0.017136260867118835,
          0.0020396560430526733,
          0.005422696471214294,
          0.0013486891984939575,
          0.005999967455863953,
          0.007085025310516357,
          0.00329531729221344,
          0.01611356995999813,
          0.0011867284774780273,
          0.0020001381635665894,
          0.021242942661046982,
          0.001739799976348877,
          0.002239733934402466
         ],
         "yaxis": "y6"
        },
        {
         "legendgroup": "q-learning",
         "line": {
          "color": "blue"
         },
         "marker": {
          "color": "blue"
         },
         "mode": "lines",
         "name": "q-learning",
         "showlegend": false,
         "type": "scatter",
         "visible": true,
         "x": [
          0,
          50,
          100,
          150,
          200,
          250,
          300,
          350,
          400,
          450,
          500,
          550,
          600,
          650,
          700,
          750,
          800,
          850,
          900,
          950
         ],
         "xaxis": "x6",
         "y": [
          0.017386585474014282,
          0.02539139986038208,
          0.0227372944355011,
          0.02428343892097473,
          0.0019063353538513184,
          0.007876604795455933,
          0.001153320074081421,
          0.0016352534294128418,
          0.0015593767166137695,
          0.0025094151496887207,
          0.0013289153575897217,
          0.002227693796157837,
          0.003062993288040161,
          0.000969618558883667,
          0.0011498332023620605,
          0.0008647143840789795,
          0.0012093186378479004,
          0.0077263712882995605,
          0.0009221136569976807,
          0.0014019310474395752
         ],
         "yaxis": "y6"
        },
        {
         "legendgroup": "q-learning",
         "line": {
          "color": "blue",
          "width": 0
         },
         "mode": "lines",
         "opacity": 0.75,
         "showlegend": false,
         "type": "scatter",
         "visible": true,
         "x": [
          0,
          50,
          100,
          150,
          200,
          250,
          300,
          350,
          400,
          450,
          500,
          550,
          600,
          650,
          700,
          750,
          800,
          850,
          900,
          950
         ],
         "xaxis": "x7",
         "y": [
          0.3235866129398346,
          0.9578109979629517,
          0.9578109979629517,
          0.9578109979629517,
          0.9578109979629517,
          0.9578109979629517,
          0.9578109979629517,
          0.9578109979629517,
          0.9578109979629517,
          0.9578109979629517,
          0.9578109979629517,
          0.9578109979629517,
          0.9578109979629517,
          0.9578109979629517,
          0.9578109979629517,
          0.9578109979629517,
          0.9578109979629517,
          0.9578109979629517,
          0.9578109979629517,
          0.9578109979629517
         ],
         "yaxis": "y7"
        },
        {
         "fill": "tonexty",
         "legendgroup": "q-learning",
         "line": {
          "color": "blue",
          "width": 0
         },
         "mode": "lines",
         "opacity": 0.75,
         "showlegend": false,
         "type": "scatter",
         "visible": true,
         "x": [
          0,
          50,
          100,
          150,
          200,
          250,
          300,
          350,
          400,
          450,
          500,
          550,
          600,
          650,
          700,
          750,
          800,
          850,
          900,
          950
         ],
         "xaxis": "x7",
         "y": [
          0.32358720898628235,
          0.9578109979629517,
          0.9578109979629517,
          0.9578109979629517,
          0.9578109979629517,
          0.9578109979629517,
          0.9578109979629517,
          0.9578109979629517,
          0.9578109979629517,
          0.9578109979629517,
          0.9578109979629517,
          0.9578109979629517,
          0.9578109979629517,
          0.9578109979629517,
          0.9578109979629517,
          0.9578109979629517,
          0.9578109979629517,
          0.9578109979629517,
          0.9578109979629517,
          0.9578109979629517
         ],
         "yaxis": "y7"
        },
        {
         "legendgroup": "q-learning",
         "line": {
          "color": "blue"
         },
         "marker": {
          "color": "blue"
         },
         "mode": "lines",
         "name": "q-learning",
         "showlegend": false,
         "type": "scatter",
         "visible": true,
         "x": [
          0,
          50,
          100,
          150,
          200,
          250,
          300,
          350,
          400,
          450,
          500,
          550,
          600,
          650,
          700,
          750,
          800,
          850,
          900,
          950
         ],
         "xaxis": "x7",
         "y": [
          0.32358676195144653,
          0.9578109979629517,
          0.9578109979629517,
          0.9578109979629517,
          0.9578109979629517,
          0.9578109979629517,
          0.9578109979629517,
          0.9578109979629517,
          0.9578109979629517,
          0.9578109979629517,
          0.9578109979629517,
          0.9578109979629517,
          0.9578109979629517,
          0.9578109979629517,
          0.9578109979629517,
          0.9578109979629517,
          0.9578109979629517,
          0.9578109979629517,
          0.9578109979629517,
          0.9578109979629517
         ],
         "yaxis": "y7"
        },
        {
         "legendgroup": "q-learning",
         "line": {
          "color": "blue",
          "width": 0
         },
         "mode": "lines",
         "opacity": 0.75,
         "showlegend": false,
         "type": "scatter",
         "visible": true,
         "x": [],
         "xaxis": "x8",
         "y": [],
         "yaxis": "y8"
        },
        {
         "fill": "tonexty",
         "legendgroup": "q-learning",
         "line": {
          "color": "blue",
          "width": 0
         },
         "mode": "lines",
         "opacity": 0.75,
         "showlegend": false,
         "type": "scatter",
         "visible": true,
         "x": [],
         "xaxis": "x8",
         "y": [],
         "yaxis": "y8"
        },
        {
         "legendgroup": "q-learning",
         "line": {
          "color": "blue"
         },
         "marker": {
          "color": "blue"
         },
         "mode": "lines",
         "name": "q-learning",
         "showlegend": false,
         "type": "scatter",
         "visible": true,
         "x": [],
         "xaxis": "x8",
         "y": [],
         "yaxis": "y8"
        }
       ],
       "layout": {
        "font": {
         "color": "black",
         "size": 15
        },
        "height": 500,
        "legend": {
         "font": {
          "size": 25
         },
         "orientation": "h",
         "visible": true,
         "x": 0.025,
         "y": 1.25
        },
        "plot_bgcolor": "#f5f6f7",
        "template": {
         "data": {
          "bar": [
           {
            "error_x": {
             "color": "#2a3f5f"
            },
            "error_y": {
             "color": "#2a3f5f"
            },
            "marker": {
             "line": {
              "color": "#E5ECF6",
              "width": 0.5
             },
             "pattern": {
              "fillmode": "overlay",
              "size": 10,
              "solidity": 0.2
             }
            },
            "type": "bar"
           }
          ],
          "barpolar": [
           {
            "marker": {
             "line": {
              "color": "#E5ECF6",
              "width": 0.5
             },
             "pattern": {
              "fillmode": "overlay",
              "size": 10,
              "solidity": 0.2
             }
            },
            "type": "barpolar"
           }
          ],
          "carpet": [
           {
            "aaxis": {
             "endlinecolor": "#2a3f5f",
             "gridcolor": "white",
             "linecolor": "white",
             "minorgridcolor": "white",
             "startlinecolor": "#2a3f5f"
            },
            "baxis": {
             "endlinecolor": "#2a3f5f",
             "gridcolor": "white",
             "linecolor": "white",
             "minorgridcolor": "white",
             "startlinecolor": "#2a3f5f"
            },
            "type": "carpet"
           }
          ],
          "choropleth": [
           {
            "colorbar": {
             "outlinewidth": 0,
             "ticks": ""
            },
            "type": "choropleth"
           }
          ],
          "contour": [
           {
            "colorbar": {
             "outlinewidth": 0,
             "ticks": ""
            },
            "colorscale": [
             [
              0,
              "#0d0887"
             ],
             [
              0.1111111111111111,
              "#46039f"
             ],
             [
              0.2222222222222222,
              "#7201a8"
             ],
             [
              0.3333333333333333,
              "#9c179e"
             ],
             [
              0.4444444444444444,
              "#bd3786"
             ],
             [
              0.5555555555555556,
              "#d8576b"
             ],
             [
              0.6666666666666666,
              "#ed7953"
             ],
             [
              0.7777777777777778,
              "#fb9f3a"
             ],
             [
              0.8888888888888888,
              "#fdca26"
             ],
             [
              1,
              "#f0f921"
             ]
            ],
            "type": "contour"
           }
          ],
          "contourcarpet": [
           {
            "colorbar": {
             "outlinewidth": 0,
             "ticks": ""
            },
            "type": "contourcarpet"
           }
          ],
          "heatmap": [
           {
            "colorbar": {
             "outlinewidth": 0,
             "ticks": ""
            },
            "colorscale": [
             [
              0,
              "#0d0887"
             ],
             [
              0.1111111111111111,
              "#46039f"
             ],
             [
              0.2222222222222222,
              "#7201a8"
             ],
             [
              0.3333333333333333,
              "#9c179e"
             ],
             [
              0.4444444444444444,
              "#bd3786"
             ],
             [
              0.5555555555555556,
              "#d8576b"
             ],
             [
              0.6666666666666666,
              "#ed7953"
             ],
             [
              0.7777777777777778,
              "#fb9f3a"
             ],
             [
              0.8888888888888888,
              "#fdca26"
             ],
             [
              1,
              "#f0f921"
             ]
            ],
            "type": "heatmap"
           }
          ],
          "heatmapgl": [
           {
            "colorbar": {
             "outlinewidth": 0,
             "ticks": ""
            },
            "colorscale": [
             [
              0,
              "#0d0887"
             ],
             [
              0.1111111111111111,
              "#46039f"
             ],
             [
              0.2222222222222222,
              "#7201a8"
             ],
             [
              0.3333333333333333,
              "#9c179e"
             ],
             [
              0.4444444444444444,
              "#bd3786"
             ],
             [
              0.5555555555555556,
              "#d8576b"
             ],
             [
              0.6666666666666666,
              "#ed7953"
             ],
             [
              0.7777777777777778,
              "#fb9f3a"
             ],
             [
              0.8888888888888888,
              "#fdca26"
             ],
             [
              1,
              "#f0f921"
             ]
            ],
            "type": "heatmapgl"
           }
          ],
          "histogram": [
           {
            "marker": {
             "pattern": {
              "fillmode": "overlay",
              "size": 10,
              "solidity": 0.2
             }
            },
            "type": "histogram"
           }
          ],
          "histogram2d": [
           {
            "colorbar": {
             "outlinewidth": 0,
             "ticks": ""
            },
            "colorscale": [
             [
              0,
              "#0d0887"
             ],
             [
              0.1111111111111111,
              "#46039f"
             ],
             [
              0.2222222222222222,
              "#7201a8"
             ],
             [
              0.3333333333333333,
              "#9c179e"
             ],
             [
              0.4444444444444444,
              "#bd3786"
             ],
             [
              0.5555555555555556,
              "#d8576b"
             ],
             [
              0.6666666666666666,
              "#ed7953"
             ],
             [
              0.7777777777777778,
              "#fb9f3a"
             ],
             [
              0.8888888888888888,
              "#fdca26"
             ],
             [
              1,
              "#f0f921"
             ]
            ],
            "type": "histogram2d"
           }
          ],
          "histogram2dcontour": [
           {
            "colorbar": {
             "outlinewidth": 0,
             "ticks": ""
            },
            "colorscale": [
             [
              0,
              "#0d0887"
             ],
             [
              0.1111111111111111,
              "#46039f"
             ],
             [
              0.2222222222222222,
              "#7201a8"
             ],
             [
              0.3333333333333333,
              "#9c179e"
             ],
             [
              0.4444444444444444,
              "#bd3786"
             ],
             [
              0.5555555555555556,
              "#d8576b"
             ],
             [
              0.6666666666666666,
              "#ed7953"
             ],
             [
              0.7777777777777778,
              "#fb9f3a"
             ],
             [
              0.8888888888888888,
              "#fdca26"
             ],
             [
              1,
              "#f0f921"
             ]
            ],
            "type": "histogram2dcontour"
           }
          ],
          "mesh3d": [
           {
            "colorbar": {
             "outlinewidth": 0,
             "ticks": ""
            },
            "type": "mesh3d"
           }
          ],
          "parcoords": [
           {
            "line": {
             "colorbar": {
              "outlinewidth": 0,
              "ticks": ""
             }
            },
            "type": "parcoords"
           }
          ],
          "pie": [
           {
            "automargin": true,
            "type": "pie"
           }
          ],
          "scatter": [
           {
            "fillpattern": {
             "fillmode": "overlay",
             "size": 10,
             "solidity": 0.2
            },
            "type": "scatter"
           }
          ],
          "scatter3d": [
           {
            "line": {
             "colorbar": {
              "outlinewidth": 0,
              "ticks": ""
             }
            },
            "marker": {
             "colorbar": {
              "outlinewidth": 0,
              "ticks": ""
             }
            },
            "type": "scatter3d"
           }
          ],
          "scattercarpet": [
           {
            "marker": {
             "colorbar": {
              "outlinewidth": 0,
              "ticks": ""
             }
            },
            "type": "scattercarpet"
           }
          ],
          "scattergeo": [
           {
            "marker": {
             "colorbar": {
              "outlinewidth": 0,
              "ticks": ""
             }
            },
            "type": "scattergeo"
           }
          ],
          "scattergl": [
           {
            "marker": {
             "colorbar": {
              "outlinewidth": 0,
              "ticks": ""
             }
            },
            "type": "scattergl"
           }
          ],
          "scattermapbox": [
           {
            "marker": {
             "colorbar": {
              "outlinewidth": 0,
              "ticks": ""
             }
            },
            "type": "scattermapbox"
           }
          ],
          "scatterpolar": [
           {
            "marker": {
             "colorbar": {
              "outlinewidth": 0,
              "ticks": ""
             }
            },
            "type": "scatterpolar"
           }
          ],
          "scatterpolargl": [
           {
            "marker": {
             "colorbar": {
              "outlinewidth": 0,
              "ticks": ""
             }
            },
            "type": "scatterpolargl"
           }
          ],
          "scatterternary": [
           {
            "marker": {
             "colorbar": {
              "outlinewidth": 0,
              "ticks": ""
             }
            },
            "type": "scatterternary"
           }
          ],
          "surface": [
           {
            "colorbar": {
             "outlinewidth": 0,
             "ticks": ""
            },
            "colorscale": [
             [
              0,
              "#0d0887"
             ],
             [
              0.1111111111111111,
              "#46039f"
             ],
             [
              0.2222222222222222,
              "#7201a8"
             ],
             [
              0.3333333333333333,
              "#9c179e"
             ],
             [
              0.4444444444444444,
              "#bd3786"
             ],
             [
              0.5555555555555556,
              "#d8576b"
             ],
             [
              0.6666666666666666,
              "#ed7953"
             ],
             [
              0.7777777777777778,
              "#fb9f3a"
             ],
             [
              0.8888888888888888,
              "#fdca26"
             ],
             [
              1,
              "#f0f921"
             ]
            ],
            "type": "surface"
           }
          ],
          "table": [
           {
            "cells": {
             "fill": {
              "color": "#EBF0F8"
             },
             "line": {
              "color": "white"
             }
            },
            "header": {
             "fill": {
              "color": "#C8D4E3"
             },
             "line": {
              "color": "white"
             }
            },
            "type": "table"
           }
          ]
         },
         "layout": {
          "annotationdefaults": {
           "arrowcolor": "#2a3f5f",
           "arrowhead": 0,
           "arrowwidth": 1
          },
          "autotypenumbers": "strict",
          "coloraxis": {
           "colorbar": {
            "outlinewidth": 0,
            "ticks": ""
           }
          },
          "colorscale": {
           "diverging": [
            [
             0,
             "#8e0152"
            ],
            [
             0.1,
             "#c51b7d"
            ],
            [
             0.2,
             "#de77ae"
            ],
            [
             0.3,
             "#f1b6da"
            ],
            [
             0.4,
             "#fde0ef"
            ],
            [
             0.5,
             "#f7f7f7"
            ],
            [
             0.6,
             "#e6f5d0"
            ],
            [
             0.7,
             "#b8e186"
            ],
            [
             0.8,
             "#7fbc41"
            ],
            [
             0.9,
             "#4d9221"
            ],
            [
             1,
             "#276419"
            ]
           ],
           "sequential": [
            [
             0,
             "#0d0887"
            ],
            [
             0.1111111111111111,
             "#46039f"
            ],
            [
             0.2222222222222222,
             "#7201a8"
            ],
            [
             0.3333333333333333,
             "#9c179e"
            ],
            [
             0.4444444444444444,
             "#bd3786"
            ],
            [
             0.5555555555555556,
             "#d8576b"
            ],
            [
             0.6666666666666666,
             "#ed7953"
            ],
            [
             0.7777777777777778,
             "#fb9f3a"
            ],
            [
             0.8888888888888888,
             "#fdca26"
            ],
            [
             1,
             "#f0f921"
            ]
           ],
           "sequentialminus": [
            [
             0,
             "#0d0887"
            ],
            [
             0.1111111111111111,
             "#46039f"
            ],
            [
             0.2222222222222222,
             "#7201a8"
            ],
            [
             0.3333333333333333,
             "#9c179e"
            ],
            [
             0.4444444444444444,
             "#bd3786"
            ],
            [
             0.5555555555555556,
             "#d8576b"
            ],
            [
             0.6666666666666666,
             "#ed7953"
            ],
            [
             0.7777777777777778,
             "#fb9f3a"
            ],
            [
             0.8888888888888888,
             "#fdca26"
            ],
            [
             1,
             "#f0f921"
            ]
           ]
          },
          "colorway": [
           "#636efa",
           "#EF553B",
           "#00cc96",
           "#ab63fa",
           "#FFA15A",
           "#19d3f3",
           "#FF6692",
           "#B6E880",
           "#FF97FF",
           "#FECB52"
          ],
          "font": {
           "color": "#2a3f5f"
          },
          "geo": {
           "bgcolor": "white",
           "lakecolor": "white",
           "landcolor": "#E5ECF6",
           "showlakes": true,
           "showland": true,
           "subunitcolor": "white"
          },
          "hoverlabel": {
           "align": "left"
          },
          "hovermode": "closest",
          "mapbox": {
           "style": "light"
          },
          "paper_bgcolor": "white",
          "plot_bgcolor": "#E5ECF6",
          "polar": {
           "angularaxis": {
            "gridcolor": "white",
            "linecolor": "white",
            "ticks": ""
           },
           "bgcolor": "#E5ECF6",
           "radialaxis": {
            "gridcolor": "white",
            "linecolor": "white",
            "ticks": ""
           }
          },
          "scene": {
           "xaxis": {
            "backgroundcolor": "#E5ECF6",
            "gridcolor": "white",
            "gridwidth": 2,
            "linecolor": "white",
            "showbackground": true,
            "ticks": "",
            "zerolinecolor": "white"
           },
           "yaxis": {
            "backgroundcolor": "#E5ECF6",
            "gridcolor": "white",
            "gridwidth": 2,
            "linecolor": "white",
            "showbackground": true,
            "ticks": "",
            "zerolinecolor": "white"
           },
           "zaxis": {
            "backgroundcolor": "#E5ECF6",
            "gridcolor": "white",
            "gridwidth": 2,
            "linecolor": "white",
            "showbackground": true,
            "ticks": "",
            "zerolinecolor": "white"
           }
          },
          "shapedefaults": {
           "line": {
            "color": "#2a3f5f"
           }
          },
          "ternary": {
           "aaxis": {
            "gridcolor": "white",
            "linecolor": "white",
            "ticks": ""
           },
           "baxis": {
            "gridcolor": "white",
            "linecolor": "white",
            "ticks": ""
           },
           "bgcolor": "#E5ECF6",
           "caxis": {
            "gridcolor": "white",
            "linecolor": "white",
            "ticks": ""
           }
          },
          "title": {
           "x": 0.05
          },
          "xaxis": {
           "automargin": true,
           "gridcolor": "white",
           "linecolor": "white",
           "ticks": "",
           "title": {
            "standoff": 15
           },
           "zerolinecolor": "white",
           "zerolinewidth": 2
          },
          "yaxis": {
           "automargin": true,
           "gridcolor": "white",
           "linecolor": "white",
           "ticks": "",
           "title": {
            "standoff": 15
           },
           "zerolinecolor": "white",
           "zerolinewidth": 2
          }
         }
        },
        "width": 4400,
        "xaxis": {
         "anchor": "y",
         "domain": [
          0,
          0.103125
         ],
         "exponentformat": "power",
         "gridcolor": "white",
         "gridwidth": 3,
         "linecolor": "gray",
         "linewidth": 2,
         "mirror": true,
         "showline": true,
         "title": {
          "text": "Iteration"
         },
         "type": "linear"
        },
        "xaxis2": {
         "anchor": "y2",
         "domain": [
          0.128125,
          0.23124999999999998
         ],
         "exponentformat": "power",
         "gridcolor": "white",
         "gridwidth": 3,
         "linecolor": "gray",
         "linewidth": 2,
         "mirror": true,
         "showline": true,
         "title": {
          "text": "Iteration"
         },
         "type": "linear"
        },
        "xaxis3": {
         "anchor": "y3",
         "domain": [
          0.25625,
          0.359375
         ],
         "exponentformat": "power",
         "gridcolor": "white",
         "gridwidth": 3,
         "linecolor": "gray",
         "linewidth": 2,
         "mirror": true,
         "showline": true,
         "title": {
          "text": "Iteration"
         },
         "type": "linear"
        },
        "xaxis4": {
         "anchor": "y4",
         "domain": [
          0.38437499999999997,
          0.48749999999999993
         ],
         "exponentformat": "power",
         "gridcolor": "white",
         "gridwidth": 3,
         "linecolor": "gray",
         "linewidth": 2,
         "mirror": true,
         "showline": true,
         "title": {
          "text": "Iteration"
         },
         "type": "linear"
        },
        "xaxis5": {
         "anchor": "y5",
         "domain": [
          0.5125,
          0.615625
         ],
         "exponentformat": "power",
         "gridcolor": "white",
         "gridwidth": 3,
         "linecolor": "gray",
         "linewidth": 2,
         "mirror": true,
         "showline": true,
         "title": {
          "text": "Iteration"
         },
         "type": "linear"
        },
        "xaxis6": {
         "anchor": "y6",
         "domain": [
          0.640625,
          0.74375
         ],
         "exponentformat": "power",
         "gridcolor": "white",
         "gridwidth": 3,
         "linecolor": "gray",
         "linewidth": 2,
         "mirror": true,
         "showline": true,
         "title": {
          "text": "Iteration"
         },
         "type": "linear"
        },
        "xaxis7": {
         "anchor": "y7",
         "domain": [
          0.76875,
          0.8718750000000001
         ],
         "exponentformat": "power",
         "gridcolor": "white",
         "gridwidth": 3,
         "linecolor": "gray",
         "linewidth": 2,
         "mirror": true,
         "showline": true,
         "title": {
          "text": "Iteration"
         },
         "type": "linear"
        },
        "xaxis8": {
         "anchor": "y8",
         "domain": [
          0.8968750000000001,
          1
         ],
         "exponentformat": "power",
         "gridcolor": "white",
         "gridwidth": 3,
         "linecolor": "gray",
         "linewidth": 2,
         "mirror": true,
         "showline": true,
         "title": {
          "text": "Iteration"
         },
         "type": "linear"
        },
        "yaxis": {
         "anchor": "x",
         "domain": [
          0,
          1
         ],
         "exponentformat": "power",
         "gridcolor": "white",
         "gridwidth": 3,
         "linecolor": "gray",
         "linewidth": 2,
         "mirror": true,
         "showline": true,
         "title": {
          "text": "Mean behavior reward"
         },
         "type": "linear"
        },
        "yaxis2": {
         "anchor": "x2",
         "domain": [
          0,
          1
         ],
         "exponentformat": "power",
         "gridcolor": "white",
         "gridwidth": 3,
         "linecolor": "gray",
         "linewidth": 2,
         "mirror": true,
         "showline": true,
         "title": {
          "text": "Mean behavior length"
         },
         "type": "linear"
        },
        "yaxis3": {
         "anchor": "x3",
         "domain": [
          0,
          1
         ],
         "exponentformat": "power",
         "gridcolor": "white",
         "gridwidth": 3,
         "linecolor": "gray",
         "linewidth": 2,
         "mirror": true,
         "showline": true,
         "title": {
          "text": "Std behavior reward"
         },
         "type": "linear"
        },
        "yaxis4": {
         "anchor": "x4",
         "domain": [
          0,
          1
         ],
         "exponentformat": "power",
         "gridcolor": "white",
         "gridwidth": 3,
         "linecolor": "gray",
         "linewidth": 2,
         "mirror": true,
         "showline": true,
         "title": {
          "text": "Std behavior length"
         },
         "type": "linear"
        },
        "yaxis5": {
         "anchor": "x5",
         "domain": [
          0,
          1
         ],
         "exponentformat": "power",
         "gridcolor": "white",
         "gridwidth": 3,
         "linecolor": "gray",
         "linewidth": 2,
         "mirror": true,
         "showline": true,
         "title": {
          "text": "Bellman error"
         },
         "type": "linear"
        },
        "yaxis6": {
         "anchor": "x6",
         "domain": [
          0,
          1
         ],
         "exponentformat": "power",
         "gridcolor": "white",
         "gridwidth": 3,
         "linecolor": "gray",
         "linewidth": 2,
         "mirror": true,
         "showline": true,
         "title": {
          "text": "L inf value norm"
         },
         "type": "linear"
        },
        "yaxis7": {
         "anchor": "x7",
         "domain": [
          0,
          1
         ],
         "exponentformat": "power",
         "gridcolor": "white",
         "gridwidth": 3,
         "linecolor": "gray",
         "linewidth": 2,
         "mirror": true,
         "showline": true,
         "title": {
          "text": "Policy evaluation"
         },
         "type": "linear"
        },
        "yaxis8": {
         "anchor": "x8",
         "domain": [
          0,
          1
         ],
         "exponentformat": "power",
         "gridcolor": "white",
         "gridwidth": 3,
         "linecolor": "gray",
         "linewidth": 2,
         "mirror": true,
         "showline": true,
         "title": {
          "text": "Value error"
         },
         "type": "linear"
        }
       }
      }
     },
     "metadata": {},
     "output_type": "display_data"
    }
   ],
   "source": [
    "from itertools import chain\n",
    "import pandas as pd\n",
    "from plot_util import make_figure\n",
    "\n",
    "\n",
    "# Make dataframe from the metrics\n",
    "percentile = 25\n",
    "\n",
    "index = pd.MultiIndex.from_product(\n",
    "    [[\"gridworld\"], [\"q-learning\"],\n",
    "     list(range(0, args[\"train_loop\"][\"n_steps\"], args[\"train_loop\"][\"eval_period\"]))],\n",
    "    names=[\"ENV\", \"ALG\", \"STEP\"])\n",
    "columns = pd.MultiIndex.from_product(\n",
    "    [metrics._fields, [\"low\", \"med\", \"high\"]],\n",
    "    names=[\"METRIC\", \"PERCENTILE\"])\n",
    "\n",
    "data = []\n",
    "for name in metrics._fields:\n",
    "    values = getattr(metrics, name)\n",
    "    if values.ndim == 1:\n",
    "        values = values.reshape(1, -1)\n",
    "    percentiles = jnp.nanpercentile(\n",
    "        values, q=jnp.array([percentile, 50, 100 - percentile]), axis=0)\n",
    "    data.append(percentiles)\n",
    "\n",
    "\n",
    "df = pd.DataFrame(data=jnp.stack(list(chain(*data)), axis=1), columns=columns, index=index)\n",
    "\n",
    "# Generate the figure\n",
    "make_figure(df.loc[\"gridworld\"])"
   ]
  }
 ],
 "metadata": {
  "kernelspec": {
   "display_name": "jaxdp",
   "language": "python",
   "name": "python3"
  },
  "language_info": {
   "codemirror_mode": {
    "name": "ipython",
    "version": 3
   },
   "file_extension": ".py",
   "mimetype": "text/x-python",
   "name": "python",
   "nbconvert_exporter": "python",
   "pygments_lexer": "ipython3",
   "version": "3.9.18"
  }
 },
 "nbformat": 4,
 "nbformat_minor": 2
}
