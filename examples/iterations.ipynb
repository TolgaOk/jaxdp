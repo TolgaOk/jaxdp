{
 "cells": [
  {
   "cell_type": "markdown",
   "metadata": {},
   "source": [
    "<h2 style=\"text-align: center;\">Value-Iteration Gridworld Example</h2>\n",
    "\n",
    "- - -"
   ]
  },
  {
   "cell_type": "code",
   "execution_count": null,
   "metadata": {},
   "outputs": [],
   "source": [
    "from typing import NamedTuple\n",
    "from functools import partial\n",
    "import jax\n",
    "import jax.numpy as jnp\n",
    "import jax.random as jrd\n",
    "\n",
    "from jaxdp.iterations.base import train\n",
    "from jaxdp.iterations.iteration import q_iteration_update\n",
    "from jaxdp.mdp.grid_world import grid_world\n",
    "\n",
    "\n",
    "mdp = grid_world([\n",
    "    \"################################\",\n",
    "    \"#   X   X   X   X   X   X   X @#\",\n",
    "    \"# X   X   X   X   X   X   X   X#\",\n",
    "    \"#   X   X   X   X   X   X   X  #\",\n",
    "    \"# X   X   X   X   X   X   X   X#\",\n",
    "    \"#   X   X   X   X   X   X   X  #\",\n",
    "    \"# X   X   X   X   X   X   X   X#\",\n",
    "    \"#   X   X   X   X   X   X   X  #\",\n",
    "    \"# X   X   X   X   X   X   X   X#\",\n",
    "    \"#   X   X   X   X   X   X   X  #\",\n",
    "    \"# X   X   X   X   X   X   X   X#\",\n",
    "    \"#P  X   X  X   X   X   X   X   #\",\n",
    "    \"################################\"\n",
    "])\n",
    "\n",
    "\n",
    "class Args(NamedTuple):\n",
    "    n_iterations: int = 100\n",
    "    max_episode_length: int = 200\n",
    "    gamma: float = 0.999\n",
    "    verbose: bool = True\n",
    "    seed: int = 42\n",
    "\n",
    "\n",
    "args = Args()\n",
    "\n",
    "\n",
    "init_values = jnp.zeros((mdp.action_size, mdp.state_size))\n",
    "\n",
    "trainer = jax.jit(partial(\n",
    "    train,\n",
    "    n_iterations=args.n_iterations,\n",
    "    gamma=args.gamma,\n",
    "    update_fn=q_iteration_update,\n",
    "    verbose=False))\n",
    "\n"
   ]
  },
  {
   "cell_type": "markdown",
   "metadata": {},
   "source": [
    "<h2 style=\"text-align: center;\">Solve</h2>\n",
    "\n",
    "- - -"
   ]
  },
  {
   "cell_type": "code",
   "execution_count": null,
   "metadata": {},
   "outputs": [],
   "source": [
    "metrics, values = trainer(\n",
    "    mdp,\n",
    "    init_values,\n",
    ")"
   ]
  },
  {
   "cell_type": "markdown",
   "metadata": {},
   "source": [
    "<h2 style=\"text-align: center;\">Plot</h2>\n",
    "\n",
    "- - -"
   ]
  },
  {
   "cell_type": "code",
   "execution_count": null,
   "metadata": {},
   "outputs": [],
   "source": [
    "from plotting import line_plot\n",
    "\n",
    "\n",
    "data = [{\n",
    "    \"iteration\": index,\n",
    "    **{key: value.item() for key, value in zip(metrics._fields, values)}}\n",
    "    for index, values in enumerate(zip(*(metrics._asdict().values())))\n",
    "]\n",
    "\n",
    "\n",
    "line_plot(\n",
    "    data,\n",
    "    \"iteration\",\n",
    "    \"Q-Iteration\"\n",
    ")"
   ]
  }
 ],
 "metadata": {
  "kernelspec": {
   "display_name": "base",
   "language": "python",
   "name": "python3"
  },
  "language_info": {
   "codemirror_mode": {
    "name": "ipython",
    "version": 3
   },
   "file_extension": ".py",
   "mimetype": "text/x-python",
   "name": "python",
   "nbconvert_exporter": "python",
   "pygments_lexer": "ipython3",
   "version": "3.8.3"
  }
 },
 "nbformat": 4,
 "nbformat_minor": 2
}
